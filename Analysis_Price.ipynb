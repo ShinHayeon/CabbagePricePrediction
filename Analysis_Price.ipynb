{
 "cells": [
  {
   "cell_type": "code",
   "execution_count": 1,
   "metadata": {},
   "outputs": [
    {
     "name": "stdout",
     "output_type": "stream",
     "text": [
      "WARNING:tensorflow:From C:\\Users\\hyshin\\anaconda3\\lib\\site-packages\\tensorflow\\python\\ops\\resource_variable_ops.py:1666: calling BaseResourceVariable.__init__ (from tensorflow.python.ops.resource_variable_ops) with constraint is deprecated and will be removed in a future version.\n",
      "Instructions for updating:\n",
      "If using Keras pass *_constraint arguments to layers.\n"
     ]
    }
   ],
   "source": [
    "import tensorflow.compat.v1 as tf\n",
    "import numpy as np\n",
    "\n",
    "tf.compat.v1.disable_eager_execution()\n",
    "\n",
    "X= tf.placeholder (tf.float32, shape = [None, 4] )\n",
    "Y= tf.placeholder (tf.float32, shape = [None, 1] )\n",
    "W= tf.Variable(tf.random_normal([4,1] ) , name = 'weight') \n",
    "b= tf.Variable(tf.random_normal([1]) , name = 'bias') \n",
    "\n",
    "\n",
    "hypothesis= tf.matmul(X,W)  + b # 가설식 \n",
    "\n",
    "saver = tf.train.Saver()\n",
    "\n",
    "model = tf.global_variables_initializer()\n",
    "\n"
   ]
  },
  {
   "cell_type": "code",
   "execution_count": 2,
   "metadata": {},
   "outputs": [
    {
     "name": "stdout",
     "output_type": "stream",
     "text": [
      "평균 온도: 4\n",
      "최저 온도: 0\n",
      "최고 온도: 10\n",
      "강수량: 0\n"
     ]
    }
   ],
   "source": [
    "avg_temp = float( input( '평균 온도: '))\n",
    "min_temp= float( input( '최저 온도: '))\n",
    "max_temp= float( input( '최고 온도: '))\n",
    "rain_fall = float( input( '강수량: '))"
   ]
  },
  {
   "cell_type": "code",
   "execution_count": 3,
   "metadata": {},
   "outputs": [
    {
     "name": "stdout",
     "output_type": "stream",
     "text": [
      "INFO:tensorflow:Restoring parameters from ./saved.cpkt\n",
      "[2637.4895]\n"
     ]
    }
   ],
   "source": [
    "with tf.Session() as sess:\n",
    "        sess.run(model)\n",
    "        # 해당 세션에 저장된 모델 불러옴\n",
    "        save_path = \"./saved.cpkt\"\n",
    "        saver.restore(sess, save_path)\n",
    "        \n",
    "        data = (( avg_temp ,    min_temp , max_temp ,  rain_fall  ) , )\n",
    "        arr = np.array(data, dtype = np.float32)\n",
    "        \n",
    "        x_data = arr[0:4]\n",
    "        dict = sess.run(hypothesis, feed_dict = {X : x_data})\n",
    "        \n",
    "        print(dict[0])\n",
    "        \n",
    "        "
   ]
  },
  {
   "cell_type": "code",
   "execution_count": null,
   "metadata": {},
   "outputs": [],
   "source": []
  }
 ],
 "metadata": {
  "kernelspec": {
   "display_name": "Python 3",
   "language": "python",
   "name": "python3"
  },
  "language_info": {
   "codemirror_mode": {
    "name": "ipython",
    "version": 3
   },
   "file_extension": ".py",
   "mimetype": "text/x-python",
   "name": "python",
   "nbconvert_exporter": "python",
   "pygments_lexer": "ipython3",
   "version": "3.7.6"
  }
 },
 "nbformat": 4,
 "nbformat_minor": 4
}
